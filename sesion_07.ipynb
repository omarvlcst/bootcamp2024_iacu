{
 "cells": [
  {
   "cell_type": "code",
   "execution_count": null,
   "id": "b5a152c8-6205-43f9-aa6b-d19890b1fd71",
   "metadata": {},
   "outputs": [],
   "source": []
  },
  {
   "cell_type": "code",
   "execution_count": null,
   "id": "242b945e-760d-4b2e-ba72-ff094169a2ef",
   "metadata": {},
   "outputs": [],
   "source": []
  },
  {
   "cell_type": "code",
   "execution_count": 1,
   "id": "48006043-82f4-4d23-bd08-2b124119329a",
   "metadata": {},
   "outputs": [
    {
     "data": {
      "text/plain": [
       "fact1 (generic function with 1 method)"
      ]
     },
     "execution_count": 1,
     "metadata": {},
     "output_type": "execute_result"
    }
   ],
   "source": [
    "function fact1(x::Float64)\n",
    "    resultado = 1.0\n",
    "    contador = 1\n",
    "    while contador < x\n",
    "        resultado = resultado * contador\n",
    "        contador += 1\n",
    "    end\n",
    "    return resultado\n",
    "end"
   ]
  },
  {
   "cell_type": "code",
   "execution_count": 2,
   "id": "f35f7d81-00c1-4636-a9d5-30097d86f94a",
   "metadata": {},
   "outputs": [
    {
     "data": {
      "text/plain": [
       "2.43290200817664e18"
      ]
     },
     "execution_count": 2,
     "metadata": {},
     "output_type": "execute_result"
    }
   ],
   "source": [
    "fact1(21.0)"
   ]
  },
  {
   "cell_type": "code",
   "execution_count": 3,
   "id": "7b707367-effb-442b-85ed-f057e271c3ac",
   "metadata": {},
   "outputs": [
    {
     "name": "stdout",
     "output_type": "stream",
     "text": [
      "51090942171709440000\n"
     ]
    }
   ],
   "source": [
    "function fact2(n)\n",
    "    if n==0 || n==1\n",
    "        return 1\n",
    "    elseif n>1\n",
    "        return n*fact2(n-1)\n",
    "    end\n",
    "end\n",
    "\n",
    "p::Int128=21\n",
    "println(fact2(p))"
   ]
  },
  {
   "cell_type": "code",
   "execution_count": 4,
   "id": "6def424a-8ffa-47ed-93f1-eb5bf252549d",
   "metadata": {},
   "outputs": [
    {
     "data": {
      "text/plain": [
       "-4249290049419214848"
      ]
     },
     "execution_count": 4,
     "metadata": {},
     "output_type": "execute_result"
    }
   ],
   "source": [
    "fact2(21)"
   ]
  },
  {
   "cell_type": "code",
   "execution_count": 5,
   "id": "7682382a-0006-4878-80c0-2bbc3546d07c",
   "metadata": {},
   "outputs": [
    {
     "data": {
      "text/plain": [
       "51090942171709440000"
      ]
     },
     "execution_count": 5,
     "metadata": {},
     "output_type": "execute_result"
    }
   ],
   "source": [
    "b1::Int128 = fact2(Int128(21))"
   ]
  },
  {
   "cell_type": "markdown",
   "id": "b6ed9964-f8c8-48a6-89f5-c5020de52e26",
   "metadata": {},
   "source": [
    "# Clases\n",
    "\n",
    "Tipos base\n",
    "* primitivos\n",
    "* * enteros\n",
    "    * flotantes (reales)\n",
    "    * caracter\n",
    "* compuestos\n",
    "* *vectores\n",
    "    * Matrices\n",
    "    * diccionarios\n",
    "    * tuplas\n",
    "\n",
    "Tipo de datos definidos por el usuario\n",
    "* Compuestos, heterogéneos\n",
    "* * heterogéneo: tipos de datos primitivos\n",
    "\n",
    "Persona\n",
    "* nombre -> cadena\n",
    "* edad -> natural\n",
    "* identificador -> cadena\n",
    "\n",
    "En otros lenguajes:\n",
    "* struct -> Lenguaje C\n",
    "* datatype -> Fortran 90/95\n",
    "\n",
    "Lenguajes orientados a objetos son clases\n",
    "`class'\n",
    "\n",
    "* Lenguajes como C++, Java, C#, Python\n",
    "\n",
    "clase:\n",
    "* características -> Atributos\n",
    "* comportamientos -> Métodos\n",
    "\n",
    "Métodos:\n",
    "* Constructor\n",
    "* Destructor\n",
    "* Getter\n",
    "* Setter\n",
    "* Display\n",
    "* Cálculo\n",
    "\n",
    "Pilares de la Programación Orientada a Objetos:\n",
    "\n",
    "* Abstracción\n",
    "* Encapsulamiento\n",
    "* Herencia\n",
    "* Polimorfismo"
   ]
  },
  {
   "cell_type": "code",
   "execution_count": 6,
   "id": "d93bdd1d-6d92-45f1-bf37-1a90c0c9b78b",
   "metadata": {},
   "outputs": [
    {
     "data": {
      "text/plain": [
       "Cosa(\"chunchita\")"
      ]
     },
     "execution_count": 6,
     "metadata": {},
     "output_type": "execute_result"
    }
   ],
   "source": [
    "struct Cosa\n",
    "    nombre::String\n",
    "end\n",
    "\n",
    "chunche = Cosa(\"chunchita\")\n",
    "#nombreObjeto = Cosa(\"nombre\", dato_numerico)"
   ]
  },
  {
   "cell_type": "code",
   "execution_count": 7,
   "id": "b0dfe6ba-c4e0-40bd-a03a-27f1e317436d",
   "metadata": {},
   "outputs": [
    {
     "name": "stdout",
     "output_type": "stream",
     "text": [
      "Nombre: José Pérez\n",
      "Créditos: 240\n",
      "Número de cuenta: 899809-12\n",
      "------------------\n",
      "Nombre: Dorotea Hernández\n",
      "Cursos impartidos: 5\n",
      "Número de trabajador: 89123478-1-13-4\n"
     ]
    }
   ],
   "source": [
    "struct Alumno\n",
    "    nombre::String\n",
    "    avance_creditos::UInt16\n",
    "    numero_de_cuenta::String\n",
    "end\n",
    "\n",
    "struct Profesor\n",
    "    nombre::String\n",
    "    cursos_impartidos::UInt16\n",
    "    numero_de_trabajador::String\n",
    "end\n",
    "\n",
    "function muestraDatosAlumno(un_alumno::Alumno)\n",
    "    println(\"Nombre: $(un_alumno.nombre)\")\n",
    "    println(\"Créditos: $(un_alumno.avance_creditos)\")\n",
    "    println(\"Número de cuenta: $(un_alumno.numero_de_cuenta)\")\n",
    "end\n",
    "\n",
    "function muestraDatosProfesor(un_profesor::Profesor)\n",
    "    println(\"Nombre: $(un_profesor.nombre)\")\n",
    "    println(\"Cursos impartidos: $(un_profesor.cursos_impartidos)\")\n",
    "    println(\"Número de trabajador: $(un_profesor.numero_de_trabajador)\")\n",
    "end\n",
    "\n",
    "pepe = Alumno(\"José Pérez\", 240, \"899809-12\")\n",
    "#println(pepe)\n",
    "\n",
    "dora = Profesor(\"Dorotea Hernández\", 5, \"89123478-1-13-4\")\n",
    "\n",
    "muestraDatosAlumno(pepe)\n",
    "println(\"------------------\")\n",
    "muestraDatosProfesor(dora)"
   ]
  },
  {
   "cell_type": "code",
   "execution_count": 8,
   "id": "d9668873-e8d2-44ec-be80-8bd059441eef",
   "metadata": {},
   "outputs": [
    {
     "name": "stdout",
     "output_type": "stream",
     "text": [
      "José Pérez\n"
     ]
    }
   ],
   "source": [
    "println(pepe.nombre)"
   ]
  },
  {
   "cell_type": "code",
   "execution_count": 9,
   "id": "de73ef3d-b81c-4c03-ba7e-050560ca7bc6",
   "metadata": {},
   "outputs": [
    {
     "name": "stdout",
     "output_type": "stream",
     "text": [
      "AlumnoTmp(\"Jesús Pérez\", 0x00f0, \"899809-12\")\n",
      "AlumnoTmp(\"José Pérez\", 0x00f0, \"899809-12\")\n"
     ]
    }
   ],
   "source": [
    "mutable struct AlumnoTmp\n",
    "    nombre::String\n",
    "    avance_creditos::UInt16\n",
    "    numero_de_cuenta::String\n",
    "end\n",
    "\n",
    "function muestraDatosAlumno(un_alumno::AlumnoTmp)\n",
    "    println(\"Nombre: $(un_alumno.nombre)\")\n",
    "    println(\"Créditos: $(un_alumno.avance_creditos)\")\n",
    "    println(\"Número de cuenta: $(un_alumno.numero_de_cuenta)\")\n",
    "end\n",
    "\n",
    "pepe2 = AlumnoTmp(\"Jesús Pérez\", 240, \"899809-12\")\n",
    "println(pepe2)\n",
    "pepe2.nombre = \"José Pérez\"\n",
    "println(pepe2)"
   ]
  },
  {
   "cell_type": "code",
   "execution_count": 10,
   "id": "fadd5868-dbef-4d0e-b8b3-dbcd5967f948",
   "metadata": {},
   "outputs": [
    {
     "data": {
      "text/plain": [
       "\"José Pérez\""
      ]
     },
     "execution_count": 10,
     "metadata": {},
     "output_type": "execute_result"
    }
   ],
   "source": [
    "# Getter\n",
    "function get_nombre(un_alumno::Alumno)\n",
    "    return un_alumno.nombre\n",
    "end\n",
    "\n",
    "function get_numeroDeCuenta(un_alumno::Alumno)\n",
    "    return un_alumno.numero_de_cuenta\n",
    "end\n",
    "\n",
    "nombre_alumno_uno = get_nombre(pepe)"
   ]
  },
  {
   "cell_type": "code",
   "execution_count": 11,
   "id": "6a2d9316-fe51-492c-86a6-bfb6d9d986fc",
   "metadata": {},
   "outputs": [
    {
     "name": "stdout",
     "output_type": "stream",
     "text": [
      "Nombre: José Juan Pérez\n",
      "Créditos: 240\n",
      "Número de cuenta: 899809-12\n"
     ]
    }
   ],
   "source": [
    "# Setter\n",
    "function set_nombre(un_alumno::AlumnoTmp, nombre_nuevo)\n",
    "    un_alumno.nombre = nombre_nuevo\n",
    "end\n",
    "\n",
    "set_nombre(pepe2, \"José Juan Pérez\")\n",
    "muestraDatosAlumno(pepe2)"
   ]
  },
  {
   "cell_type": "code",
   "execution_count": 13,
   "id": "9010c2d4-0cc1-48e9-877a-8b442e228b95",
   "metadata": {},
   "outputs": [
    {
     "data": {
      "text/plain": [
       "Escuela(Alumno(\"uno\", 0x0017, \"5565466-85\"), Profesor(\"dos\", 0x0019, \"6512668-74\"))"
      ]
     },
     "execution_count": 13,
     "metadata": {},
     "output_type": "execute_result"
    }
   ],
   "source": [
    "struct Escuela\n",
    "    alumnos::Alumno\n",
    "    profesores::Profesor\n",
    "end\n",
    "\n",
    "unaEscuela = Escuela(pepe,dora)\n",
    "otraEscuela = Escuela(Alumno(\"uno\", 23, \"5565466-85\"),Profesor(\"dos\",25,\"6512668-74\"))"
   ]
  },
  {
   "cell_type": "markdown",
   "id": "6258749b-f70f-436c-9ab9-664bf577dda3",
   "metadata": {},
   "source": [
    "### Objetos y Estructuras en Julia"
   ]
  },
  {
   "cell_type": "code",
   "execution_count": 1,
   "id": "8b4b3615-c3a6-46fd-896b-0951686b63fe",
   "metadata": {},
   "outputs": [],
   "source": [
    "struct Vector2D\n",
    "    x::Float64\n",
    "    y::Float64\n",
    "end"
   ]
  },
  {
   "cell_type": "code",
   "execution_count": 15,
   "id": "cb33c2b5-2120-48e6-8624-8498b906b077",
   "metadata": {},
   "outputs": [
    {
     "data": {
      "text/plain": [
       "Vector2D(2, 4)"
      ]
     },
     "execution_count": 15,
     "metadata": {},
     "output_type": "execute_result"
    }
   ],
   "source": [
    "a = Vector2D(2,4)"
   ]
  },
  {
   "cell_type": "code",
   "execution_count": 16,
   "id": "565078e3-0f84-4c3c-8ecc-34dd1af7e99a",
   "metadata": {},
   "outputs": [
    {
     "data": {
      "text/plain": [
       "Vector2D"
      ]
     },
     "execution_count": 16,
     "metadata": {},
     "output_type": "execute_result"
    }
   ],
   "source": [
    "b = Vector2D(\"Hola\", \"crayola\")\n",
    "typeof(b)"
   ]
  },
  {
   "cell_type": "code",
   "execution_count": null,
   "id": "971bc0e3-9c08-4858-bc2e-b01c82555b18",
   "metadata": {},
   "outputs": [],
   "source": []
  }
 ],
 "metadata": {
  "kernelspec": {
   "display_name": "Julia 1.10.4",
   "language": "julia",
   "name": "julia-1.10"
  },
  "language_info": {
   "file_extension": ".jl",
   "mimetype": "application/julia",
   "name": "julia",
   "version": "1.10.4"
  }
 },
 "nbformat": 4,
 "nbformat_minor": 5
}
