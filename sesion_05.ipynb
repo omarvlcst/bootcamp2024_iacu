{
 "cells": [
  {
   "cell_type": "markdown",
   "id": "801bd1e9-3781-4fcc-a923-aecae530768f",
   "metadata": {},
   "source": [
    "# Problema:\n",
    "\n",
    "### Usando operaciones aritméticas básicas: +, -, *, /\n",
    "\n",
    "### Calcular sen(x) para\n",
    "\n",
    "$$x \\in[-\\pi,\\pi]$$\n",
    "\n",
    "Sabemos que $$\\sin^2(x)+\\cos^2(x)=1$$ $$\\sin(2x)=2\\sin(x)\\cos(x)$$\n",
    "\n",
    "Tenemos también que $\\sin(x)\\approx x$ si $x\\approx 0$. Entonces, si $x\\approx 0$, el problema está resuelto, ya que podemos usar esta aproximación:\n",
    "\n",
    "$$\\sin(x)\\approx x$$\n",
    "\n",
    "Ahora, si $x\\nsim 0$ y $x\\in[-\\pi,\\pi]\\Rightarrow |x|<4$\n",
    "\n",
    "Veamos también que:\n",
    "\n",
    "$$\\dfrac{x}{2^{10}}<\\dfrac{4}{2^{10}}=\\dfrac{1}{2^8}\\leq 0.0039 \\approx 0$$\n",
    "\n",
    "Por lo tanto,\n",
    "\n",
    "$$\\sin^2\\left(\\dfrac{x}{2^{10}}\\right) \\approx \\left(\\dfrac{x}{2^{10}}\\right)^2$$\n",
    "\n",
    "Sea pues $$y = \\left(\\dfrac{x}{2^{10}}\\right)^2$$ y $x_0 = x/2^{10}$. Entonces, $$\\sin^2(x_0)\\approx y$$\n",
    "\n",
    "Además, $$\\sin^2(2x)=4\\sin^2(x)\\cos^2(x)=4\\sin^2(x)(1-\\cos^2(x))$$\n",
    "\n",
    "Entonces, $$\\sin^2(2x_0)=4y(1-y)$$\n",
    "\n",
    "Llamemos ahora a nuestra $y$ como $y=y_0$. Entonces, $$\\sin^2(2x_0)=4y_0(1-y_0)$$ \n",
    "\n",
    "Y si repetimos el algoritmo: $$\\sin^2(2(2x_0)) = 4\\sin^2(2x_0)(1-\\sin^2(2x_0))=4y_1(1-y_1)$$ $$\\sin^2(2(2(2x_0)))=4y_2(1-y_2)$$\n",
    "\n",
    "Así hasta llegar a: $$y_{10}=\\sin^2(2^{10}x_0)$$ Pero como $2^{10}x_0 = 2^{10}\\left(\\dfrac{x}{2^{10}}\\right)$, entonces: $$\\sin(x)=\\sqrt{y_{10}}=\\sqrt{\\sin^2(x)}$$\n",
    "\n",
    "Por último, solo hay que meter el signo de $x\\in[-\\pi,\\pi]$: $$\\sin(x)=sgn(x)\\sqrt{y_{10}}$$\n",
    "\n",
    "Por lo cual, los datos de entrada van a ser:\n",
    "\n",
    "$$x_0=\\dfrac{x}{2^{10}}=\\dfrac{x}{1024}$$\n",
    "\n",
    "Metemos a mano el 1024 en vez de $2^{10}$, porque no tenemos la potencia como operación básica."
   ]
  },
  {
   "cell_type": "code",
   "execution_count": null,
   "id": "bcc15b31-1a78-4fb8-a11e-0fd74d933983",
   "metadata": {},
   "outputs": [],
   "source": [
    "#=\n",
    "Dato de entrada:\n",
    "\n",
    "x ∈ [-π,π]\n",
    "\n",
    "Procedimiento:\n",
    "x_0 = x/1024\n",
    "y = x_0*x_0\n",
    "\n",
    "desde i=1,2,...,10\n",
    "    y = 4*y(1-y)\n",
    "fin desde\n",
    "\n",
    "s=1\n",
    "Si x<0\n",
    "    s = -1\n",
    "fin si\n",
    "\n",
    "resultado = s*\\sqrt{y}\n",
    "=#"
   ]
  },
  {
   "cell_type": "markdown",
   "id": "738467a8-1713-4774-b493-833595c6bc45",
   "metadata": {},
   "source": [
    "### Tarea 1: \n",
    "Pasarlo a Julia y como bonus, pasarlo a Python y Fortran. Estudiar los tiempos de ejecución en los 3 lenguajes"
   ]
  },
  {
   "cell_type": "code",
   "execution_count": 7,
   "id": "90f94dd5-89f6-44df-88f3-d7dae9726d30",
   "metadata": {},
   "outputs": [
    {
     "name": "stdout",
     "output_type": "stream",
     "text": [
      "-0.47942555604020376\n",
      "-0.479425538604203\n"
     ]
    }
   ],
   "source": [
    "function seno(x)\n",
    "    cociente = fld(x/(2π))\n",
    "    x_inicial = x/1024\n",
    "    y_aproximada = x_inicial*x_inicial\n",
    "    for i=1:10\n",
    "        y_aproximada=4*y_aproximada*(1-y_aproximada)\n",
    "    end\n",
    "    signo=1\n",
    "    if x<0\n",
    "        signo=-1\n",
    "    end\n",
    "    resultado = signo * sqrt(y_aproximada)\n",
    "    return resultado\n",
    "end\n",
    "\n",
    "println(seno(-0.5))\n",
    "println(sin(-0.5))"
   ]
  },
  {
   "cell_type": "markdown",
   "id": "49a7412e-0390-4285-b1e2-90b33e5c742d",
   "metadata": {},
   "source": [
    "# Ejemplo 2: Ecuación diferencial elíptica\n",
    "\n",
    "$$\\dfrac{\\partial}{\\partial x}\\left(a(x)\\dfrac{\\partial h(x)}{\\partial x}\\right)-q(x)=0$$\n",
    "\n",
    "Podemos usar la definición conveniente de la derivada numérica:\n",
    "\n",
    "$$f'(x)\\approx \\dfrac{f(x+\\frac{\\Delta x}{2})-f(x-\\frac{\\Delta x}{2})}{2\\cdot\\dfrac{\\Delta x}{2}} = \\dfrac{f(x+\\Delta x/2)-f(x-\\Delta x/2)}{\\Delta x}$$"
   ]
  },
  {
   "cell_type": "code",
   "execution_count": null,
   "id": "70e1adcb-736c-4575-853d-5cffd5046229",
   "metadata": {},
   "outputs": [],
   "source": []
  }
 ],
 "metadata": {
  "kernelspec": {
   "display_name": "Julia 1.10.4",
   "language": "julia",
   "name": "julia-1.10"
  },
  "language_info": {
   "file_extension": ".jl",
   "mimetype": "application/julia",
   "name": "julia",
   "version": "1.10.4"
  }
 },
 "nbformat": 4,
 "nbformat_minor": 5
}
