{
 "cells": [
  {
   "cell_type": "code",
   "execution_count": 1,
   "id": "513f77c6-343d-4a56-a788-ed63a9ce62e7",
   "metadata": {},
   "outputs": [
    {
     "data": {
      "text/plain": [
       "7"
      ]
     },
     "execution_count": 1,
     "metadata": {},
     "output_type": "execute_result"
    }
   ],
   "source": [
    "3+4"
   ]
  },
  {
   "cell_type": "code",
   "execution_count": 2,
   "id": "76b1acb2-1c72-4013-a54c-4cb8b08c2d87",
   "metadata": {},
   "outputs": [
    {
     "data": {
      "text/plain": [
       "0.09999999999999998"
      ]
     },
     "execution_count": 2,
     "metadata": {},
     "output_type": "execute_result"
    }
   ],
   "source": [
    "1.0-0.9"
   ]
  },
  {
   "cell_type": "code",
   "execution_count": 3,
   "id": "c08793bd-abb6-43f1-ab31-57074dd7afb0",
   "metadata": {},
   "outputs": [
    {
     "data": {
      "text/plain": [
       "0.10000000000002274"
      ]
     },
     "execution_count": 3,
     "metadata": {},
     "output_type": "execute_result"
    }
   ],
   "source": [
    "1000-999.9"
   ]
  },
  {
   "cell_type": "code",
   "execution_count": 4,
   "id": "45c5a6cd-4bc3-4df1-b0b0-14c38c2b1d8a",
   "metadata": {},
   "outputs": [
    {
     "data": {
      "text/plain": [
       "1"
      ]
     },
     "execution_count": 4,
     "metadata": {},
     "output_type": "execute_result"
    }
   ],
   "source": [
    "1"
   ]
  },
  {
   "cell_type": "code",
   "execution_count": 5,
   "id": "a7cb76bf-7a62-4e8b-b151-ea2f310707d2",
   "metadata": {},
   "outputs": [
    {
     "data": {
      "text/plain": [
       "1.0"
      ]
     },
     "execution_count": 5,
     "metadata": {},
     "output_type": "execute_result"
    }
   ],
   "source": [
    "1.0"
   ]
  },
  {
   "cell_type": "code",
   "execution_count": 6,
   "id": "5333467c-1792-4b1c-b54c-ff27699411c2",
   "metadata": {},
   "outputs": [
    {
     "name": "stdout",
     "output_type": "stream",
     "text": [
      "Hola mundo\n"
     ]
    }
   ],
   "source": [
    "# Primer programa en Julia\n",
    "\n",
    "println(\"Hola mundo\")"
   ]
  },
  {
   "cell_type": "code",
   "execution_count": 12,
   "id": "ee53b717-a8ff-4241-978a-8ed00e3f803e",
   "metadata": {},
   "outputs": [
    {
     "name": "stdout",
     "output_type": "stream",
     "text": [
      "0.328125\n"
     ]
    }
   ],
   "source": [
    "# Segundo programa en Julia\n",
    "\n",
    "A = 0.0\n",
    "B = 1.0\n",
    "pasos = 4\n",
    "\n",
    "delta = (B-A)/pasos\n",
    "\n",
    "x_i = A + (delta/2)\n",
    "h1 = x_i*x_i\n",
    "x_i = x_i + delta\n",
    "h2 = x_i * x_i\n",
    "x_i = x_i + delta\n",
    "h3 = x_i * x_i\n",
    "x_i = x_i + delta\n",
    "h4 = x_i * x_i\n",
    "\n",
    "integral = delta * (h1+h2+h3+h4)\n",
    "println(integral)"
   ]
  },
  {
   "cell_type": "code",
   "execution_count": 13,
   "id": "8f3ce156-ca4a-4afc-b460-b57ee2af4f3d",
   "metadata": {},
   "outputs": [
    {
     "data": {
      "text/plain": [
       "46.64"
      ]
     },
     "execution_count": 13,
     "metadata": {},
     "output_type": "execute_result"
    }
   ],
   "source": [
    "a = 23.32\n",
    "b=2a    "
   ]
  },
  {
   "cell_type": "code",
   "execution_count": 30,
   "id": "f275263d-951c-4c4d-958a-ef2aa8e09c2f",
   "metadata": {},
   "outputs": [
    {
     "name": "stdout",
     "output_type": "stream",
     "text": [
      "x1 = 1.0\n",
      "x2 = -1.0\n"
     ]
    }
   ],
   "source": [
    "#Datos\n",
    "a = 1\n",
    "b = 0\n",
    "c = -1\n",
    "\n",
    "function chicharronera(a,b,c)\n",
    "#Procedimiento\n",
    "if a == 0\n",
    "    x = -c/b\n",
    "    println(\"Solo hay una raíz y es: $x\")\n",
    "elseif c == 0\n",
    "    println(\"X1=0\")\n",
    "    x = -b/a\n",
    "    println(\"X2 = $x\")\n",
    "else\n",
    "    disc = b*b - 4*a*c\n",
    "    if disc > 0\n",
    "        x1 = (-b+sqrt(disc)/(2a))\n",
    "        x2 = (-b-sqrt(disc)/(2a))\n",
    "        println(\"x1 = $x1\")\n",
    "        println(\"x2 = $x2\")\n",
    "    elseif disc == 0\n",
    "        x1 = x2 = -b/2a\n",
    "        println(\"x1= $x1\")\n",
    "        println(\"x2= $x2\")\n",
    "    else\n",
    "        #x1 = (-b+sqrt(disc)/(2a)) + \"i\"\n",
    "        xa = -(b/2a)\n",
    "        xb = sqrt(-1*(disc))/(2a)\n",
    "        println(\"x1 = $xa + i $xb \")\n",
    "        println(\"x2 = $xa - i $xb \")\n",
    "    end\n",
    "end function\n",
    "\n",
    "#Resultados"
   ]
  },
  {
   "cell_type": "code",
   "execution_count": 34,
   "id": "de84b061-aa09-42a9-9a2a-aa3685dd8cc7",
   "metadata": {},
   "outputs": [
    {
     "data": {
      "text/plain": [
       "String"
      ]
     },
     "execution_count": 34,
     "metadata": {},
     "output_type": "execute_result"
    }
   ],
   "source": [
    "w = \"a\"\n",
    "typeof(w)"
   ]
  },
  {
   "cell_type": "code",
   "execution_count": 33,
   "id": "6385bc89-a57b-4c81-b01e-d8bcb2e94974",
   "metadata": {},
   "outputs": [
    {
     "data": {
      "text/plain": [
       "Float64"
      ]
     },
     "execution_count": 33,
     "metadata": {},
     "output_type": "execute_result"
    }
   ],
   "source": [
    "z = 4.0\n",
    "typeof(z)"
   ]
  },
  {
   "cell_type": "code",
   "execution_count": 31,
   "id": "203e6f15-665a-4f4f-b5ea-50a93e59edce",
   "metadata": {},
   "outputs": [
    {
     "data": {
      "text/plain": [
       "7 + 8im"
      ]
     },
     "execution_count": 31,
     "metadata": {},
     "output_type": "execute_result"
    }
   ],
   "source": [
    "#complejo\n",
    "r = 7+8im"
   ]
  },
  {
   "cell_type": "code",
   "execution_count": 32,
   "id": "4920c5fd-9b9b-4eac-993b-6dd186546fd5",
   "metadata": {},
   "outputs": [
    {
     "data": {
      "text/plain": [
       "Complex{Int64}"
      ]
     },
     "execution_count": 32,
     "metadata": {},
     "output_type": "execute_result"
    }
   ],
   "source": [
    "typeof(r)"
   ]
  },
  {
   "cell_type": "code",
   "execution_count": 35,
   "id": "5e22147f-595c-4b80-89bb-0dbe3ab6cf8d",
   "metadata": {},
   "outputs": [
    {
     "data": {
      "text/plain": [
       "5-element Vector{Int64}:\n",
       " 1\n",
       " 2\n",
       " 3\n",
       " 4\n",
       " 5"
      ]
     },
     "execution_count": 35,
     "metadata": {},
     "output_type": "execute_result"
    }
   ],
   "source": [
    "datos=[1,2,3,4,5]"
   ]
  },
  {
   "cell_type": "code",
   "execution_count": 36,
   "id": "10f96a2a-5418-4f2b-850c-34ecf9e930ae",
   "metadata": {},
   "outputs": [
    {
     "data": {
      "text/plain": [
       "5-element Vector{Int64}:\n",
       "  2\n",
       "  4\n",
       "  6\n",
       "  8\n",
       " 10"
      ]
     },
     "execution_count": 36,
     "metadata": {},
     "output_type": "execute_result"
    }
   ],
   "source": [
    "datos1 = datos + [1,2,3,4,5]"
   ]
  },
  {
   "cell_type": "code",
   "execution_count": 37,
   "id": "7bc86aae-b324-4eba-9b3e-c19854854ebc",
   "metadata": {},
   "outputs": [
    {
     "data": {
      "text/plain": [
       "Vector{Int64}\u001b[90m (alias for \u001b[39m\u001b[90mArray{Int64, 1}\u001b[39m\u001b[90m)\u001b[39m"
      ]
     },
     "execution_count": 37,
     "metadata": {},
     "output_type": "execute_result"
    }
   ],
   "source": [
    "typeof(datos1)"
   ]
  },
  {
   "cell_type": "code",
   "execution_count": 38,
   "id": "d09e140f-7ab6-4738-a623-249bc2dc749f",
   "metadata": {},
   "outputs": [
    {
     "data": {
      "text/plain": [
       "1"
      ]
     },
     "execution_count": 38,
     "metadata": {},
     "output_type": "execute_result"
    }
   ],
   "source": [
    "datos[1]"
   ]
  },
  {
   "cell_type": "code",
   "execution_count": 39,
   "id": "23d72d40-fb24-4059-9355-5677741a0e9d",
   "metadata": {},
   "outputs": [
    {
     "data": {
      "text/plain": [
       "5"
      ]
     },
     "execution_count": 39,
     "metadata": {},
     "output_type": "execute_result"
    }
   ],
   "source": [
    "datos[5]"
   ]
  },
  {
   "cell_type": "code",
   "execution_count": null,
   "id": "38bbeec1-fab5-4e70-b2d3-37e783d703f6",
   "metadata": {},
   "outputs": [],
   "source": []
  }
 ],
 "metadata": {
  "kernelspec": {
   "display_name": "Julia 1.10.4",
   "language": "julia",
   "name": "julia-1.10"
  },
  "language_info": {
   "file_extension": ".jl",
   "mimetype": "application/julia",
   "name": "julia",
   "version": "1.10.4"
  }
 },
 "nbformat": 4,
 "nbformat_minor": 5
}
