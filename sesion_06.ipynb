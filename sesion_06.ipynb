{
 "cells": [
  {
   "cell_type": "markdown",
   "id": "ae8429d2-908e-468b-9d5d-a41eec94a4c8",
   "metadata": {},
   "source": [
    "10 -> 0   1   2   3   4   5   6   7   8   9\n",
    "16 -> 0   1   2   3   4   5   6   7   8   9   A   B   C   D   E   F  (HEXADECIMAL)\n",
    "\n",
    "                                              16⁰ 16¹ 16²\n",
    "                                              100_{16} = 256_{10}\n",
    "                                              \n",
    "                                              A8 = 168\n",
    "                                              10(16)¹\n",
    "                                              160 + 8 = 168\n",
    "\n",
    "Int8: -128 a 127\n",
    "UInt8: 0 a 255\n",
    "Int16: -32,768 a 32,767\n",
    "UInt16: 0 a 65,355\n",
    "\n",
    "Unsigned\n",
    "    Int 8\n",
    "signed Int 8"
   ]
  },
  {
   "cell_type": "code",
   "execution_count": 5,
   "id": "986ba242-72f0-47ff-9dc1-57cded5788c7",
   "metadata": {},
   "outputs": [
    {
     "name": "stdout",
     "output_type": "stream",
     "text": [
      "UInt8\n",
      "168\n"
     ]
    },
    {
     "data": {
      "text/plain": [
       "0xa8"
      ]
     },
     "execution_count": 5,
     "metadata": {},
     "output_type": "execute_result"
    }
   ],
   "source": [
    "num1::Int8 = -120\n",
    "num2::UInt8 = 32\n",
    "num3 = num1 + num2\n",
    "println(typeof(num3))\n",
    "println(num3)\n",
    "num3\n",
    "#A8 es 168 en decimal"
   ]
  },
  {
   "cell_type": "code",
   "execution_count": 4,
   "id": "df4cb199-5922-4057-b7cf-47dfd0935b2e",
   "metadata": {},
   "outputs": [
    {
     "name": "stdout",
     "output_type": "stream",
     "text": [
      "Int16\n",
      "-88\n"
     ]
    }
   ],
   "source": [
    "num4::Int8 = -120\n",
    "num5::Int16 = 32\n",
    "num6 = num4 + num5\n",
    "println(typeof(num6))\n",
    "println(num6)"
   ]
  },
  {
   "cell_type": "code",
   "execution_count": 7,
   "id": "45bcd87f-de83-43e8-905a-a697197abec5",
   "metadata": {},
   "outputs": [
    {
     "data": {
      "text/plain": [
       "1.23451e23"
      ]
     },
     "execution_count": 7,
     "metadata": {},
     "output_type": "execute_result"
    }
   ],
   "source": [
    "real1::Float32 = 1.23451e23"
   ]
  },
  {
   "cell_type": "code",
   "execution_count": 8,
   "id": "9dc31810-146c-46f1-bc71-b3c370607c51",
   "metadata": {},
   "outputs": [
    {
     "data": {
      "text/plain": [
       "-1.46e-128"
      ]
     },
     "execution_count": 8,
     "metadata": {},
     "output_type": "execute_result"
    }
   ],
   "source": [
    "real2::Float64 = -1.46e-128"
   ]
  },
  {
   "cell_type": "code",
   "execution_count": 9,
   "id": "3d321acb-2470-45c7-b24c-161523caf112",
   "metadata": {},
   "outputs": [
    {
     "data": {
      "text/plain": [
       "3456789"
      ]
     },
     "execution_count": 9,
     "metadata": {},
     "output_type": "execute_result"
    }
   ],
   "source": [
    "real3=3_456_789"
   ]
  },
  {
   "cell_type": "code",
   "execution_count": 10,
   "id": "406cd656-5e42-4e7a-b08a-8a03f51c8723",
   "metadata": {},
   "outputs": [
    {
     "ename": "LoadError",
     "evalue": "UndefVarError: `Float128` not defined",
     "output_type": "error",
     "traceback": [
      "UndefVarError: `Float128` not defined",
      "",
      "Stacktrace:",
      " [1] top-level scope",
      "   @ In[10]:1"
     ]
    }
   ],
   "source": [
    "real4::Float128 = 8e123"
   ]
  },
  {
   "cell_type": "code",
   "execution_count": 11,
   "id": "a428698b-9a5a-452d-a5ff-3d12e4212636",
   "metadata": {},
   "outputs": [
    {
     "data": {
      "text/plain": [
       "\"Esto es una cadena\""
      ]
     },
     "execution_count": 11,
     "metadata": {},
     "output_type": "execute_result"
    }
   ],
   "source": [
    "cadena = \"Esto es una cadena\""
   ]
  },
  {
   "cell_type": "code",
   "execution_count": 20,
   "id": "f891778c-ade9-46e1-a3f1-cf62337d494f",
   "metadata": {},
   "outputs": [
    {
     "name": "stdout",
     "output_type": "stream",
     "text": [
      "Hola  Mundo"
     ]
    }
   ],
   "source": [
    "cadena1 = \"Hola \"\n",
    "cadena2 = \"Mundo\"\n",
    "cadena3 = \"$cadena1 $cadena2\"\n",
    "print(cadena3)"
   ]
  },
  {
   "cell_type": "code",
   "execution_count": 21,
   "id": "54333edd-0dd0-4468-8631-50d7977268d9",
   "metadata": {},
   "outputs": [
    {
     "data": {
      "text/plain": [
       "\"Hola Mundo\""
      ]
     },
     "execution_count": 21,
     "metadata": {},
     "output_type": "execute_result"
    }
   ],
   "source": [
    "cadena3 = \"$cadena1$cadena2\""
   ]
  },
  {
   "cell_type": "code",
   "execution_count": 22,
   "id": "f2004b27-396f-4fa9-9d89-3eef4e1f85cc",
   "metadata": {},
   "outputs": [
    {
     "ename": "LoadError",
     "evalue": "MethodError: no method matching +(::String, ::String)\nString concatenation is performed with \u001b[36m*\u001b[39m (See also: https://docs.julialang.org/en/v1/manual/strings/#man-concatenation).\n\n\u001b[0mClosest candidates are:\n\u001b[0m  +(::Any, ::Any, \u001b[91m::Any\u001b[39m, \u001b[91m::Any...\u001b[39m)\n\u001b[0m\u001b[90m   @\u001b[39m \u001b[90mBase\u001b[39m \u001b[90m\u001b[4moperators.jl:587\u001b[24m\u001b[39m\n",
     "output_type": "error",
     "traceback": [
      "MethodError: no method matching +(::String, ::String)\nString concatenation is performed with \u001b[36m*\u001b[39m (See also: https://docs.julialang.org/en/v1/manual/strings/#man-concatenation).\n\n\u001b[0mClosest candidates are:\n\u001b[0m  +(::Any, ::Any, \u001b[91m::Any\u001b[39m, \u001b[91m::Any...\u001b[39m)\n\u001b[0m\u001b[90m   @\u001b[39m \u001b[90mBase\u001b[39m \u001b[90m\u001b[4moperators.jl:587\u001b[24m\u001b[39m\n",
      "",
      "Stacktrace:",
      " [1] top-level scope",
      "   @ In[22]:1"
     ]
    }
   ],
   "source": [
    "cadena4 = cadena1 + cadena2"
   ]
  },
  {
   "cell_type": "code",
   "execution_count": 23,
   "id": "8cd6476e-4457-4b37-947f-8697545f7c13",
   "metadata": {},
   "outputs": [
    {
     "data": {
      "text/plain": [
       "\"Hola Mundo\""
      ]
     },
     "execution_count": 23,
     "metadata": {},
     "output_type": "execute_result"
    }
   ],
   "source": [
    "# El operador asterisco en Julia * es el que ayuda a concatenar cadenas, así como el símbolo + en otros lenguajes\n",
    "\n",
    "cadena4 = cadena1 * cadena2"
   ]
  },
  {
   "cell_type": "code",
   "execution_count": 24,
   "id": "a254f9ee-5249-4abe-80be-17edc06c4199",
   "metadata": {},
   "outputs": [
    {
     "data": {
      "text/plain": [
       "\"Hola Mundo\""
      ]
     },
     "execution_count": 24,
     "metadata": {},
     "output_type": "execute_result"
    }
   ],
   "source": [
    "string(cadena1,cadena2)"
   ]
  },
  {
   "cell_type": "code",
   "execution_count": 27,
   "id": "ac51d3a4-38a9-4940-87cc-0fe20912cf92",
   "metadata": {},
   "outputs": [
    {
     "data": {
      "text/plain": [
       "10"
      ]
     },
     "execution_count": 27,
     "metadata": {},
     "output_type": "execute_result"
    }
   ],
   "source": [
    "length(cadena4)"
   ]
  },
  {
   "cell_type": "code",
   "execution_count": 26,
   "id": "da96943e-3afc-4a8a-a48f-8e2b605d12c7",
   "metadata": {},
   "outputs": [
    {
     "ename": "LoadError",
     "evalue": "ParseError:\n\u001b[90m# Error @ \u001b[0;0m\u001b]8;;file:///home/omar/Desktop/bootcamp_IA/In[26]#1:9\u001b\\\u001b[90mIn[26]:1:9\u001b[0;0m\u001b]8;;\u001b\\\ncadena4[\u001b[48;2;120;70;70m?\u001b[0;0m]\n\u001b[90m#       ╙ ── \u001b[0;0m\u001b[91minvalid identifier\u001b[0;0m",
     "output_type": "error",
     "traceback": [
      "ParseError:\n\u001b[90m# Error @ \u001b[0;0m\u001b]8;;file:///home/omar/Desktop/bootcamp_IA/In[26]#1:9\u001b\\\u001b[90mIn[26]:1:9\u001b[0;0m\u001b]8;;\u001b\\\ncadena4[\u001b[48;2;120;70;70m?\u001b[0;0m]\n\u001b[90m#       ╙ ── \u001b[0;0m\u001b[91minvalid identifier\u001b[0;0m",
      "",
      "Stacktrace:",
      " [1] top-level scope",
      "   @ In[26]:1"
     ]
    }
   ],
   "source": [
    "cadena4[?]"
   ]
  },
  {
   "cell_type": "code",
   "execution_count": 31,
   "id": "a5c19c6b-cb8e-449b-9b49-44b330e31c02",
   "metadata": {},
   "outputs": [
    {
     "data": {
      "text/plain": [
       "2-element Vector{Any}:\n",
       " 'H': ASCII/Unicode U+0048 (category Lu: Letter, uppercase)\n",
       " 'o': ASCII/Unicode U+006F (category Ll: Letter, lowercase)"
      ]
     },
     "execution_count": 31,
     "metadata": {},
     "output_type": "execute_result"
    }
   ],
   "source": [
    "letras2=[]\n",
    "push!(letras2,cadena4[1])\n",
    "push!(letras2,cadena4[2])"
   ]
  },
  {
   "cell_type": "code",
   "execution_count": 32,
   "id": "e7b0f8e2-0768-4b52-aead-c684e94331c8",
   "metadata": {},
   "outputs": [
    {
     "name": "stdout",
     "output_type": "stream",
     "text": [
      "Any['H', 'o']"
     ]
    }
   ],
   "source": [
    "print(letras2)"
   ]
  },
  {
   "cell_type": "code",
   "execution_count": 34,
   "id": "fe868370-651b-4e78-8b34-d68b93a93f91",
   "metadata": {},
   "outputs": [
    {
     "name": "stdout",
     "output_type": "stream",
     "text": [
      "Ho"
     ]
    }
   ],
   "source": [
    "print(letras2[1]*letras2[2])"
   ]
  },
  {
   "cell_type": "code",
   "execution_count": null,
   "id": "e2eb5b71-d83e-4125-af19-cbb56dd94fe4",
   "metadata": {},
   "outputs": [],
   "source": [
    "# Ciclo condicional if\n",
    "\n",
    "if condicion\n",
    "    sentencias\n",
    "elseif condicion2\n",
    "    sentencias\n",
    "else\n",
    "    sentencias\n",
    "end\n",
    "\n",
    "# En Julia, las condicionales deben siempre regresar un booleano, o sea un valor lógico"
   ]
  },
  {
   "cell_type": "markdown",
   "id": "c0253f0d-4a12-4664-9faa-a166c5556237",
   "metadata": {},
   "source": [
    "Ciclos controlados por contador\n",
    "- conocemos el numero de iteraciones a realizar.\n",
    "- for\n",
    "- do\n",
    "\n",
    "Ciclos controlados por centinela\n",
    "- No conocemos la cantidad de iteraciones, pero existe una condición de paro\n",
    "- Existe una variable centinela o bandera que se activa cuando se cumple la condición de paro\n",
    "- while, do while (en C++)\n",
    "- "
   ]
  },
  {
   "cell_type": "code",
   "execution_count": 36,
   "id": "896d0bd8-4acf-457d-bac1-f14478bb1325",
   "metadata": {},
   "outputs": [
    {
     "name": "stdout",
     "output_type": "stream",
     "text": [
      "1\n",
      "2\n",
      "3\n",
      "4\n",
      "5\n",
      "6\n",
      "7\n",
      "8\n",
      "9\n",
      "10\n"
     ]
    }
   ],
   "source": [
    "for i=1:10\n",
    "    println(i)\n",
    "end"
   ]
  },
  {
   "cell_type": "code",
   "execution_count": 37,
   "id": "b4beaacd-19fb-4eb4-b657-9d24b8458e88",
   "metadata": {},
   "outputs": [
    {
     "name": "stdout",
     "output_type": "stream",
     "text": [
      "1\n",
      "3\n",
      "5\n",
      "7\n",
      "9\n"
     ]
    }
   ],
   "source": [
    "for i=1:2:10\n",
    "    println(i)\n",
    "end"
   ]
  },
  {
   "cell_type": "code",
   "execution_count": 38,
   "id": "1f62b242-7901-4bc6-ab57-1e0e3698bacd",
   "metadata": {},
   "outputs": [
    {
     "name": "stdout",
     "output_type": "stream",
     "text": [
      "1, 3, 5, 7, 9, 11, 13, 15, 17, 19, 21, 23, 25, 27, 29, 31, 33, 35, 37, 39, 41, 43, 45, 47, 49, "
     ]
    }
   ],
   "source": [
    "for i in 1:2:50\n",
    "    print(\"$i, \")\n",
    "end"
   ]
  },
  {
   "cell_type": "code",
   "execution_count": 42,
   "id": "c05a53d7-0fb2-4760-b049-5c21d9e7f44e",
   "metadata": {},
   "outputs": [
    {
     "name": "stdout",
     "output_type": "stream",
     "text": [
      "Any['H', 'o', 'l', 'a', ' ', 'M', 'u', 'n', 'd', 'o']\n"
     ]
    }
   ],
   "source": [
    "letras23=[]\n",
    "for i in cadena4\n",
    "    push!(letras23,i)\n",
    "end\n",
    "\n",
    "println(letras23)"
   ]
  },
  {
   "cell_type": "code",
   "execution_count": 43,
   "id": "8d54cdde-0f95-4812-9757-6e537dfbdfee",
   "metadata": {},
   "outputs": [
    {
     "name": "stdout",
     "output_type": "stream",
     "text": [
      "Hola_Mundo"
     ]
    }
   ],
   "source": [
    "letras23[5]='_'\n",
    "for i in letras23\n",
    "    print(i)\n",
    "end"
   ]
  },
  {
   "cell_type": "code",
   "execution_count": 44,
   "id": "0ba6b0d1-abc6-4d00-ad7b-edc023487626",
   "metadata": {},
   "outputs": [
    {
     "name": "stdout",
     "output_type": "stream",
     "text": [
      "Hola Mundo"
     ]
    }
   ],
   "source": [
    "for i ∈ cadena4\n",
    "    print(i)\n",
    "end"
   ]
  },
  {
   "cell_type": "code",
   "execution_count": 45,
   "id": "defbbe42-aa1f-4430-93d2-d929af01eb3f",
   "metadata": {},
   "outputs": [
    {
     "name": "stdout",
     "output_type": "stream",
     "text": [
      "12345678910"
     ]
    }
   ],
   "source": [
    "for i ∈ 1:10\n",
    "    print(i)\n",
    "end"
   ]
  },
  {
   "cell_type": "code",
   "execution_count": 46,
   "id": "68385e7d-3279-405f-ac39-c668af645e55",
   "metadata": {},
   "outputs": [
    {
     "name": "stdout",
     "output_type": "stream",
     "text": [
      "1\n",
      "2\n",
      "3\n",
      "4\n",
      "5\n",
      "2\n",
      "4\n",
      "6\n",
      "8\n",
      "10\n",
      "3\n",
      "6\n",
      "9\n",
      "12\n",
      "15\n",
      "4\n",
      "8\n",
      "12\n",
      "16\n",
      "20\n",
      "5\n",
      "10\n",
      "15\n",
      "20\n",
      "25\n",
      "6\n",
      "12\n",
      "18\n",
      "24\n",
      "30\n",
      "7\n",
      "14\n",
      "21\n",
      "28\n",
      "35\n",
      "8\n",
      "16\n",
      "24\n",
      "32\n",
      "40\n",
      "9\n",
      "18\n",
      "27\n",
      "36\n",
      "45\n",
      "10\n",
      "20\n",
      "30\n",
      "40\n",
      "50\n"
     ]
    }
   ],
   "source": [
    "for i=1:10\n",
    "    for j=1:5\n",
    "        println(i*j)\n",
    "    end\n",
    "end"
   ]
  },
  {
   "cell_type": "code",
   "execution_count": 48,
   "id": "ae96afbc-abd7-4c95-a81d-8749909d79e5",
   "metadata": {},
   "outputs": [
    {
     "name": "stdout",
     "output_type": "stream",
     "text": [
      "1\n",
      "2\n",
      "3\n",
      "4\n",
      "5\n",
      "2\n",
      "4\n",
      "6\n",
      "8\n",
      "10\n",
      "3\n",
      "6\n",
      "9\n",
      "12\n",
      "15\n",
      "4\n",
      "8\n",
      "12\n",
      "16\n",
      "20\n",
      "5\n",
      "10\n",
      "15\n",
      "20\n",
      "25\n",
      "6\n",
      "12\n",
      "18\n",
      "24\n",
      "30\n",
      "7\n",
      "14\n",
      "21\n",
      "28\n",
      "35\n",
      "8\n",
      "16\n",
      "24\n",
      "32\n",
      "40\n",
      "9\n",
      "18\n",
      "27\n",
      "36\n",
      "45\n",
      "10\n",
      "20\n",
      "30\n",
      "40\n",
      "50\n"
     ]
    }
   ],
   "source": [
    "for i=1:10, j=1:5\n",
    "    println(i*j)\n",
    "end\n",
    "\n",
    "#break, continue"
   ]
  },
  {
   "cell_type": "code",
   "execution_count": 50,
   "id": "a718f5e9-d326-4ec0-b0ad-d1ed59e5c0dd",
   "metadata": {},
   "outputs": [
    {
     "name": "stdout",
     "output_type": "stream",
     "text": [
      "1\n",
      "2\n",
      "3\n",
      "4\n",
      "5\n",
      "6\n",
      "8\n",
      "9\n",
      "10\n"
     ]
    }
   ],
   "source": [
    "for i=1:10\n",
    "    if i==7\n",
    "        continue\n",
    "    end\n",
    "    println(i)\n",
    "end"
   ]
  },
  {
   "cell_type": "code",
   "execution_count": 58,
   "id": "666fd2d4-e446-484e-ab0a-dd684653f766",
   "metadata": {},
   "outputs": [],
   "source": [
    "tolerancia = 0.000001\n",
    "centinela = 1e34\n",
    "\n",
    "while centinela>tolerancia\n",
    "    centinela=centinela/2.0\n",
    "    #println(centinela)\n",
    "end"
   ]
  },
  {
   "cell_type": "code",
   "execution_count": 53,
   "id": "5e9d37a4-37dd-48aa-84fd-6a1c4379e50e",
   "metadata": {},
   "outputs": [
    {
     "name": "stdout",
     "output_type": "stream",
     "text": [
      "1, 2, 3, 4, 5, 6, 7, 8, 9, 10, 11, 12, 13, 14, 15, 16, 17, 18, 19, 20, 21, 22, 23, 24, 25, 26, 27, 28, 29, 30, 31, 32, 33, 34, 35, 36, 37, 38, 39, 40, 41, 42, 43, 44, 45, 46, 47, 48, 49, 50, 51, 52, 53, 54, 55, 56, 57, 58, 59, 60, 61, 62, 63, 64, 65, 66, 67, 68, 69, 70, 71, 72, 73, 74, 75, 76, 77, 78, 79, 80, 81, 82, 83, 84, 85, 86, 87, 88, 89, 90, 91, 92, 93, 94, 95, 96, 97, 98, 99, 100, "
     ]
    }
   ],
   "source": [
    "contador = 0\n",
    "while contador < 100\n",
    "    contador += 1\n",
    "    print(\"$contador, \")\n",
    "end"
   ]
  },
  {
   "cell_type": "markdown",
   "id": "39e0c4e8-10a3-424d-ba25-bc0f8300ffe8",
   "metadata": {},
   "source": [
    "### Algoritmo de Thomas\n",
    "\n",
    "- Resolver la ecuación diferencial parabólica con:\n",
    "\n",
    "$$a(x),\\;q(x),\\;h_{izq},\\;h_{der} \\longrightarrow Datos$$\n",
    "\n",
    "$$x_i\\in \\{x_{izq}\\;,\\;x_{1}\\;,\\;...\\;,\\;x_{n}\\;,\\;x_{der}\\}\\longrightarrow Datos$$\n",
    "\n",
    "- Calcular: $C1$, $C2$, $Q$.\n",
    "\n",
    "- Construir: $$C0 = -(C1+C2)$$ $$B = Q-Fronteras$$\n",
    "\n",
    "- Resolver finalmente el sistema $$Ah = B$$\n",
    "\n",
    "1) Redefino las constantes en la tridiagonal como $d$ en vez de $C$.\n",
    "2) Defino ahora $\\alpha=d1_i/d0_{i-1}$ para $i=2,...,n$.\n",
    "3) Así, todo elemento en la tridiagonal $d0_i$ pasa a verse como $d0_i-\\alpha d2_{i-1}$ mediante el método de eliminación gaussiana.\n",
    "4) También, todo elemento $b_i$ del vector $b$ pasa a verse como $b_i-\\alpha b_{i-1}$\n",
    "5) Ahora, si nos fijamos en el elemento n-ésimo del vector solución, vemos que es $x_n = b_n/d0_n$ por estar en la última componente de la matriz\n",
    "6) Mediante un algoritmo de regreso sobre todas las $n$, podemos hallar que las componentes del vector solución es: $x_{i}=(b_i-d2_ix_{i+1})/d0_i$ para $i=n-1, n-2, ...,1$.\n",
    "\n",
    "<h4> Procedimiento para el algoritmo de Thomas: </h4>\n",
    "\n",
    "- Datos de entrada: los arreglos d0, d1, d2, b (OJO: NO ES NECESARIO CONOCER LAS $n^2$ componentes de la matriz)\n",
    "- n = tamaño(b)\n",
    "- Para $i = 2,...,n$\n",
    "  \n",
    "      $\\alpha=$\n",
    "      $d0_i=$\n",
    "      $b_i=$\n",
    "  \n",
    "  fin para\n",
    "- $x_n = b_n/d0_n$\n",
    "- para $i = 2, ..., n$\n",
    "  \n",
    "      $x_i=$\n",
    "  \n",
    "  fin para\n",
    "  \n",
    "- Regresar resultado del arreglo solución $x$"
   ]
  },
  {
   "cell_type": "code",
   "execution_count": 56,
   "id": "a340cd1f-d5a3-4177-8fe2-1c356606f70f",
   "metadata": {},
   "outputs": [
    {
     "data": {
      "text/plain": [
       "5×5 Matrix{Int64}:\n",
       " 2   4   0  0   0\n",
       " 3   5  -2  0   0\n",
       " 0  -4   7  3   0\n",
       " 0   0  -2  3   1\n",
       " 0   0   0  3  -1"
      ]
     },
     "execution_count": 56,
     "metadata": {},
     "output_type": "execute_result"
    }
   ],
   "source": [
    "d0 = [2 5 7 3 -1]\n",
    "d1 = [0 3 -4 -2 3]\n",
    "d2 = [4 -2 3 1 0]\n",
    "\n",
    "b = [6 6 6 2 1]\n",
    "\n",
    "Matriz = [2 4 0 0 0 ; 3 5 -2 0 0 ; 0 -4 7 3 0 ; 0 0 -2 3 1 ; 0 0 0 3 -1]\n",
    "Matriz"
   ]
  },
  {
   "cell_type": "markdown",
   "id": "f7456b85-8c1b-4fb6-9ca5-1b316fcec904",
   "metadata": {},
   "source": [
    "### Tarea Moral: escribir el código en Julia para este algoritmo de Thomas en el caso de la celda anterior.\n",
    "\n",
    "----------------------------------------------------------------------------------------------------------------------------"
   ]
  },
  {
   "cell_type": "markdown",
   "id": "45be3a5d-a6fb-4af2-af0c-3bff7efd7401",
   "metadata": {},
   "source": [
    "# Ecuación diferencial parcial parabólica que depende también del tiempo\n",
    "\n",
    "Consideremos ahora la ecuación:\n",
    "\n",
    "$$\\dfrac{\\partial}{\\partial x}\\left(a(x)\\dfrac{\\partial}{\\partial x}h(x,t)\\right)-q(x)=r(x)\\dfrac{\\partial h(x,t)}{\\partial t}$$\n",
    "\n",
    "Conocemos también los valores a las fronteras: $$h(x_{izq}\\;,\\;t) = h_{izq}$$ $$h(x_{der}\\;,\\;t)=h_{der}$$ \n",
    "\n",
    "Y el valor de una condición inicial: $$h(x\\;,\\;t_0)=h^{(0)}(x)$$\n",
    "\n",
    "Esto lo podemos entender como las vibraciones mecánicas de la cuerda de una guitarra: los extremos de la cuerda están fijos a la guitarra (los valores a la frontera son fijos) pero la condición inicial, es decir, la forma en cómo estiramos la cuerda al principio, va a determinar como vibra ésta con el paso del tiempo y de la posición.\n",
    "\n",
    "En diferencias finitas, esto nos debe resultar en algo como:\n",
    "\n",
    "$$C_{1i}\\;h_{i-1}+C_{0i}\\;h_i+C_{2i}\\;h_{i+1}-Q_i=r(x)\\dfrac{\\partial h(x,t)}{\\partial t}$$\n",
    "\n",
    "donde: $$\\dfrac{\\partial h}{\\partial t}(x,t_0)=\\dfrac{h(x_i\\;,\\;t_0+\\Delta t)-h(x_i\\;,\\;t_0)}{\\Delta t}=\\dfrac{h_i^{\\,(1)}-h_i^{\\,(0)}}{\\Delta t}$$\n",
    "\n",
    "De esta manera, se consigue:\n",
    "\n",
    "$$C_{1i}\\;h_{i-1}^{\\,(1)}+C_{0i}\\;h_i^{\\,(1)}+C_{2i}\\;h_{i+1}^{\\,(1)}-Q_i=r(x_i)\\dfrac{h_i^{\\,(1)}-h_i^{\\,(0)}}{\\Delta t}$$\n",
    "\n",
    "Es más conveniente escribir este sistema en la forma:\n",
    "\n",
    "$$C_{1i}\\;h_{i-1}^{\\,(1)}+\\left(C_{0i}-\\dfrac{r_i}{\\Delta t}\\right)\\;h_i^{\\,(1)}+C_{2i}\\;h_{i+1}^{\\,(1)}=Q_i-r_i\\dfrac{h_i^{\\,(0)}}{\\Delta t}$$\n",
    "\n",
    "Finalmente, a este sistema se le puede escribir como:\n",
    "\n",
    "$$Ah^{(1)} = Q-\\dfrac{r}{\\Delta t}h^{(0)}$$"
   ]
  },
  {
   "cell_type": "code",
   "execution_count": null,
   "id": "50151c1c-77e3-4fa1-aaee-a8586e580c14",
   "metadata": {},
   "outputs": [],
   "source": []
  }
 ],
 "metadata": {
  "kernelspec": {
   "display_name": "Julia 1.10.4",
   "language": "julia",
   "name": "julia-1.10"
  },
  "language_info": {
   "file_extension": ".jl",
   "mimetype": "application/julia",
   "name": "julia",
   "version": "1.10.4"
  }
 },
 "nbformat": 4,
 "nbformat_minor": 5
}
