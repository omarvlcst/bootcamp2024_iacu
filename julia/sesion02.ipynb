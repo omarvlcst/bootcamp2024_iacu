{
 "cells": [
  {
   "cell_type": "markdown",
   "metadata": {},
   "source": [
    "<h4> Programa para calcular una integral con muchos rectángulos </h4>\n",
    "\n",
    "A = \n",
    "\n",
    "B =\n",
    "\n",
    "Rectángulos = 1000\n",
    "\n",
    "delta = (B-A)/Rectángulos\n",
    "\n",
    "x = A+delta/2\n",
    "\n",
    "suma = 0\n",
    "\n",
    "desde 1 hasta Rectángulos\n",
    "\n",
    "    suma = suma + f(x)\n",
    "\n",
    "    x = x+delta\n",
    "\n",
    "fin desde\n",
    "\n",
    "resultado = delta * suma"
   ]
  },
  {
   "cell_type": "markdown",
   "metadata": {},
   "source": []
  }
 ],
 "metadata": {
  "language_info": {
   "name": "python"
  }
 },
 "nbformat": 4,
 "nbformat_minor": 2
}
