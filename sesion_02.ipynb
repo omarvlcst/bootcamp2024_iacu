{
 "cells": [
  {
   "cell_type": "code",
   "execution_count": 16,
   "id": "4763de9d-14dd-43be-9757-61b0f2b8a5ab",
   "metadata": {},
   "outputs": [
    {
     "data": {
      "text/plain": [
       "raizcuad (generic function with 1 method)"
      ]
     },
     "execution_count": 16,
     "metadata": {},
     "output_type": "execute_result"
    }
   ],
   "source": [
    "function absoluto(x)\n",
    "    if x>=0\n",
    "        return x\n",
    "    elseif x<0\n",
    "        return -1*x\n",
    "    end\n",
    "end\n",
    "\n",
    "function raizcuad(x,tol)\n",
    "    a=x\n",
    "    b=1\n",
    "    imaginario=1.0\n",
    "    if x < 0\n",
    "        imaginario = 1im\n",
    "        x = -x\n",
    "    end\n",
    "    while absoluto(a-b)>tol #Numero maximo de iteraciones o determinar si diverge\n",
    "        a=(a+b)/2\n",
    "        b=x/a\n",
    "    end\n",
    "    return a*imaginario\n",
    "end"
   ]
  },
  {
   "cell_type": "code",
   "execution_count": 17,
   "id": "decafb82-a518-4ce6-aa73-468c5fc17e93",
   "metadata": {},
   "outputs": [
    {
     "data": {
      "text/plain": [
       "-0.0 - 2.0000006938662227im"
      ]
     },
     "execution_count": 17,
     "metadata": {},
     "output_type": "execute_result"
    }
   ],
   "source": [
    "raizcuad(-4,0.0001)"
   ]
  },
  {
   "cell_type": "code",
   "execution_count": 18,
   "id": "67c39935-7113-4601-a25f-8a122afc2249",
   "metadata": {},
   "outputs": [
    {
     "data": {
      "text/plain": [
       "4.0"
      ]
     },
     "execution_count": 18,
     "metadata": {},
     "output_type": "execute_result"
    }
   ],
   "source": [
    "sqrt(16)"
   ]
  },
  {
   "cell_type": "code",
   "execution_count": 33,
   "id": "63f796ec-8c7d-41e9-9fdb-3718a438d180",
   "metadata": {},
   "outputs": [
    {
     "name": "stdout",
     "output_type": "stream",
     "text": [
      "9.092726571680032e-12\n"
     ]
    }
   ],
   "source": [
    "function f(x)\n",
    "    return 4/(1+x*x)\n",
    "end\n",
    "\n",
    "#=\n",
    "Datos de entrada\n",
    "A: real, B:real, f(x): función, num_pasos: entero\n",
    "Datos de salida\n",
    "Resultado: real\n",
    "=#\n",
    "\n",
    "function integralNum(ini,fin,num_pasos)\n",
    "    δ = (fin-ini)/num_pasos\n",
    "    x = δ/2 + ini\n",
    "    suma = 0\n",
    "    for i=1:num_pasos\n",
    "        suma = suma + f(x)\n",
    "        x=x+δ\n",
    "    end\n",
    "    resultado=suma*δ\n",
    "    return resultado\n",
    "end\n",
    "\n",
    "pi_estimado = integralNum(0.0,1.0,100000)\n",
    "println(pi_estimado-π)"
   ]
  },
  {
   "cell_type": "code",
   "execution_count": 38,
   "id": "4a96b0d3-9a0b-442c-8a72-ecb2719306e3",
   "metadata": {},
   "outputs": [
    {
     "data": {
      "text/plain": [
       "6-element Vector{Float64}:\n",
       " -3.9090909090909096\n",
       "  5.199999999999999\n",
       " -5.8888888888888875\n",
       "  3.5353535353535355\n",
       " -4.5\n",
       "  3.4"
      ]
     },
     "execution_count": 38,
     "metadata": {},
     "output_type": "execute_result"
    }
   ],
   "source": [
    "#=Derivada numérica\n",
    "\n",
    "X: son los valores de la funcion discretizados\n",
    "\n",
    "=#\n",
    "function derivadaNum(Y,tam,Delta)\n",
    "    resultado=[]\n",
    "    for i=1:length(Delta)\n",
    "        aux = (Y[i+1]-Y[i])/Delta[i]\n",
    "        push!(resultado, aux)\n",
    "    end\n",
    "    return resultado\n",
    "end\n",
    "\n",
    "function main()\n",
    "    Mediciones = [8.8, 4.5, 9.7, 4.4, 7.9, 3.4]\n",
    "    Delta = [1.1, 1.0, 0.9, 0.99, 1.00]\n",
    "    Derivada = derivadaNum(Mediciones,6,Delta)\n",
    "end\n",
    "\n",
    "main()"
   ]
  },
  {
   "cell_type": "code",
   "execution_count": 16,
   "id": "bb1134bb-048e-4cfa-9e9e-1c81eb8e1089",
   "metadata": {},
   "outputs": [
    {
     "name": "stdout",
     "output_type": "stream",
     "text": [
      "Programa que convierte Fahrenheit a Celsius\n",
      "Ingresa los grados Fahrenheit a convertir"
     ]
    },
    {
     "name": "stdin",
     "output_type": "stream",
     "text": [
      "stdin>  30\n"
     ]
    },
    {
     "name": "stdout",
     "output_type": "stream",
     "text": [
      "-1.1111111111111112\n"
     ]
    }
   ],
   "source": [
    "#=\n",
    "Funcion que pasa de grados Fahrenheit a Celsius\n",
    "\n",
    "C = 5/9(F - 32)\n",
    "\n",
    "Datos de entrada: gradosF -> real\n",
    "Datos de salida: gradosC -> real\n",
    "\n",
    "=#\n",
    "\n",
    "function fahrenheitACelsius(gradosF)\n",
    "    gradosC = 5/9 * (gradosF - 32)\n",
    "    return gradosC\n",
    "end\n",
    "\n",
    "#=\n",
    "Funcion que pasa de grados Celsius a Fahrenheit \n",
    "\n",
    "C = 9/5F + 32\n",
    "\n",
    "Datos de entrada: gradosF -> real\n",
    "Datos de salida: gradosC -> real\n",
    "\n",
    "=#\n",
    "\n",
    "function celsiusAFahrenheit(gradosC)\n",
    "    gradosF = (9/5) * gradosC + 32\n",
    "    return gradosF\n",
    "end\n",
    "\n",
    "function main()\n",
    "    println(\"Programa que convierte Fahrenheit a Celsius\")\n",
    "    print(\"Ingresa los grados Fahrenheit a convertir\")\n",
    "    grados = parse(Float64,readline())\n",
    "    resultado=fahrenheitACelsius(grados)\n",
    "    println(resultado)\n",
    "#    println(celsiusAFahrenheit(200))\n",
    "end\n",
    "\n",
    "main()"
   ]
  },
  {
   "cell_type": "code",
   "execution_count": 15,
   "id": "1f1d3a92-060f-40bb-995a-51b8f1b90bf3",
   "metadata": {},
   "outputs": [
    {
     "name": "stdout",
     "output_type": "stream",
     "text": [
      "¿Como te llamas?"
     ]
    },
    {
     "name": "stdin",
     "output_type": "stream",
     "text": [
      "stdin>  Omar\n"
     ]
    },
    {
     "name": "stdout",
     "output_type": "stream",
     "text": [
      "Hola Omar\n"
     ]
    }
   ],
   "source": [
    "print(\"¿Como te llamas?\")\n",
    "nombre = readline()\n",
    "println(\"Hola $nombre\")"
   ]
  },
  {
   "cell_type": "code",
   "execution_count": 24,
   "id": "f961a046-eae6-401d-8bc6-c806336839f5",
   "metadata": {},
   "outputs": [
    {
     "name": "stdin",
     "output_type": "stream",
     "text": [
      "stdin>  -235\n"
     ]
    },
    {
     "data": {
      "text/plain": [
       "-235"
      ]
     },
     "execution_count": 24,
     "metadata": {},
     "output_type": "execute_result"
    }
   ],
   "source": [
    "#convierte la cadena de texto de un número entero a un tipo número entero\n",
    "function leeEntero()\n",
    "    dato = parse(Int, readline())\n",
    "    return dato\n",
    "end\n",
    "\n",
    "leeEntero()"
   ]
  },
  {
   "cell_type": "code",
   "execution_count": 21,
   "id": "18d98d3e-6f3d-4577-a7ac-951b55d3fbcb",
   "metadata": {},
   "outputs": [],
   "source": [
    "#=\n",
    "\n",
    "< , > , <= , >= , ==, !=\n",
    "\n",
    "=#"
   ]
  },
  {
   "cell_type": "code",
   "execution_count": 22,
   "id": "c6a2d64a-3415-4704-aab1-ed2854729fe4",
   "metadata": {},
   "outputs": [
    {
     "data": {
      "text/plain": [
       "true"
      ]
     },
     "execution_count": 22,
     "metadata": {},
     "output_type": "execute_result"
    }
   ],
   "source": [
    "2!=3"
   ]
  },
  {
   "cell_type": "code",
   "execution_count": 23,
   "id": "11691c9b-b99d-4fda-8a8b-17e29d91b189",
   "metadata": {},
   "outputs": [
    {
     "data": {
      "text/plain": [
       "false"
      ]
     },
     "execution_count": 23,
     "metadata": {},
     "output_type": "execute_result"
    }
   ],
   "source": [
    "2==3"
   ]
  },
  {
   "cell_type": "code",
   "execution_count": 25,
   "id": "e82c37a3-29d0-401d-9853-da64e3d83957",
   "metadata": {},
   "outputs": [
    {
     "name": "stdout",
     "output_type": "stream",
     "text": [
      "Escribe el inicio del intervalo"
     ]
    },
    {
     "name": "stdin",
     "output_type": "stream",
     "text": [
      "stdin>  0\n"
     ]
    },
    {
     "name": "stdout",
     "output_type": "stream",
     "text": [
      "Escribe el fin del intervalo"
     ]
    },
    {
     "name": "stdin",
     "output_type": "stream",
     "text": [
      "stdin>  100\n"
     ]
    },
    {
     "name": "stdout",
     "output_type": "stream",
     "text": [
      "Escribe un número"
     ]
    },
    {
     "name": "stdin",
     "output_type": "stream",
     "text": [
      "stdin>  3\n"
     ]
    },
    {
     "name": "stdout",
     "output_type": "stream",
     "text": [
      "Está en el intervalo\n"
     ]
    }
   ],
   "source": [
    "print(\"Escribe el inicio del intervalo\")\n",
    "\n",
    "A = parse(Float64, readline())\n",
    "\n",
    "print(\"Escribe el fin del intervalo\")\n",
    "\n",
    "B = parse(Float64, readline())\n",
    "\n",
    "print(\"Escribe un número\")\n",
    "\n",
    "x = parse(Float64, readline())\n",
    "\n",
    "if x >= A && x <= B\n",
    "    println(\"Está en el intervalo\")\n",
    "else\n",
    "    println(\"No está en el intervalo\")\n",
    "end"
   ]
  },
  {
   "cell_type": "code",
   "execution_count": 28,
   "id": "160cdcb7-2aa1-4d06-90c2-2da39d190abf",
   "metadata": {},
   "outputs": [
    {
     "ename": "LoadError",
     "evalue": "TypeError: non-boolean (Int64) used in boolean context",
     "output_type": "error",
     "traceback": [
      "TypeError: non-boolean (Int64) used in boolean context",
      "",
      "Stacktrace:",
      " [1] top-level scope",
      "   @ In[28]:13"
     ]
    }
   ],
   "source": [
    "#=\n",
    "\n",
    "Operadores lógicos\n",
    "\n",
    "&& -> and\n",
    "\n",
    "|| -> or\n",
    "\n",
    "! -> negación\n",
    "\n",
    "=#\n",
    "\n",
    "0 && 10\n",
    "#En Julia no se pueden utilizar no booleanos en un contexto de operadores lógicos que solo usan booleanos. En Python sí"
   ]
  },
  {
   "cell_type": "code",
   "execution_count": 29,
   "id": "413cdcd6-d3c9-4244-a4bb-82f1a5808bb9",
   "metadata": {},
   "outputs": [
    {
     "data": {
      "text/plain": [
       "false"
      ]
     },
     "execution_count": 29,
     "metadata": {},
     "output_type": "execute_result"
    }
   ],
   "source": [
    "false && false"
   ]
  },
  {
   "cell_type": "code",
   "execution_count": 30,
   "id": "596ef93e-c652-44b4-b431-fb6d592026d7",
   "metadata": {},
   "outputs": [
    {
     "data": {
      "text/plain": [
       "true"
      ]
     },
     "execution_count": 30,
     "metadata": {},
     "output_type": "execute_result"
    }
   ],
   "source": [
    "true || false"
   ]
  },
  {
   "cell_type": "code",
   "execution_count": 31,
   "id": "985d2818-33ea-43c4-9e56-f0c4f81ae5d9",
   "metadata": {},
   "outputs": [
    {
     "data": {
      "text/plain": [
       "12"
      ]
     },
     "execution_count": 31,
     "metadata": {},
     "output_type": "execute_result"
    }
   ],
   "source": [
    "ruta_archivo = \"prueba.txt\"\n",
    "open(ruta_archivo, \"w\") do varArc\n",
    "    write(varArc, \"A, B, C, D \\n\")\n",
    "end"
   ]
  },
  {
   "cell_type": "code",
   "execution_count": 34,
   "id": "734c7a19-d6c5-4beb-bd99-3a82c8a5f991",
   "metadata": {},
   "outputs": [],
   "source": [
    "ruta_archivo = \"prueba2.txt\"\n",
    "open(ruta_archivo, \"a\") do varArc\n",
    "    for i=1:25\n",
    "        n1 = rand()\n",
    "        n2 = rand()\n",
    "        n3 = rand()\n",
    "        n4 = rand()\n",
    "        write(varArc, \"$n1, $n2, $n3, $n4 \\n\")\n",
    "    end\n",
    "end   "
   ]
  },
  {
   "cell_type": "code",
   "execution_count": 35,
   "id": "0557ddf3-28f2-4357-90af-9e5e991c3da1",
   "metadata": {},
   "outputs": [],
   "source": [
    "ruta_archivo = \"datos.txt\"\n",
    "open(ruta_archivo, \"a\") do varArc\n",
    "    for i=1:25\n",
    "        n1 = rand()\n",
    "        n2 = rand()\n",
    "        n3 = rand()\n",
    "        n4 = rand()\n",
    "        write(varArc, \"$n1, $n2, $n3, $n4 \\n\")\n",
    "    end\n",
    "end"
   ]
  },
  {
   "cell_type": "code",
   "execution_count": 36,
   "id": "1306be0c-44a2-458e-a9bd-3940fce18a15",
   "metadata": {},
   "outputs": [
    {
     "name": "stdout",
     "output_type": "stream",
     "text": [
      "0.10654590239275163, 0.02703241875047868, 0.5193913095120746, 0.9622134171289934 \n",
      "0.7487054112249694, 0.2109630384848542, 0.4773649697140472, 0.7395467931709657 \n",
      "0.8478717892232811, 0.7601947298116722, 0.8393043946031598, 0.6031872523758938 \n",
      "0.2915692984591012, 0.7752944260538339, 0.47749993768387466, 0.5573673213802941 \n",
      "0.7285362443024656, 0.08765018493749344, 0.3551078012229385, 0.9827159087917592 \n",
      "0.7862252258085329, 0.9428410232780075, 0.8375773822638048, 0.3970958075981391 \n",
      "0.37363647768274744, 0.6199407290689397, 0.37885576004366783, 0.3675336128952903 \n",
      "0.7671685685412848, 0.8042273847755615, 0.8452304071221306, 0.7901849230881428 \n",
      "0.49554534353391266, 0.3577361491743358, 0.5491804454806225, 0.4432974349667088 \n",
      "0.1454883568200631, 0.42596927244660987, 0.850784242174824, 0.7744808428975184 \n",
      "0.39385094412658894, 0.6536718578518395, 0.17201250096852616, 0.7048000953848147 \n",
      "0.9232548967478116, 0.90970833699853, 0.3630820270085894, 0.4809727789319588 \n",
      "0.01756980129532748, 0.8079306394363553, 0.4956680253526353, 0.9599996290363353 \n",
      "0.07621381140422856, 0.6780310927713895, 0.6942154773528771, 0.5400012721826205 \n",
      "0.9068003104927785, 0.7385129593564119, 0.1472469572876608, 0.7503987387687335 \n",
      "0.594848372328203, 0.3290628536691842, 0.9586936121767148, 0.3516256705945412 \n",
      "0.7692439917794572, 0.4798891067135399, 0.5627810161780435, 0.5301931123966959 \n",
      "0.10744497824793342, 0.15059521903438255, 0.6487190162305189, 0.47000882959331325 \n",
      "0.7990413245174178, 0.9799858237573016, 0.5696678364789867, 0.011555556097343489 \n",
      "0.30719379185736606, 0.17839886451921116, 0.6827344752733203, 0.6418357653463515 \n",
      "0.24212407390514257, 0.3494083999736589, 0.8085445192203116, 0.0324528078009082 \n",
      "0.5487162787396119, 0.8713826652797463, 0.6244773885779362, 0.8948237386385802 \n",
      "0.3003448175348574, 0.6720113457697248, 0.3450946908782345, 0.5329262809697104 \n",
      "0.8975737463145781, 0.22987216442572833, 0.9230864850267303, 0.45404797025685995 \n",
      "0.24162040821717568, 0.6440070995633576, 0.7356655104029489, 0.09477236267129174 \n",
      "\n"
     ]
    }
   ],
   "source": [
    "s = open(\"datos.txt\") do varArchivo\n",
    "    read(varArchivo, String)\n",
    "end\n",
    "\n",
    "println(s)"
   ]
  },
  {
   "cell_type": "code",
   "execution_count": 38,
   "id": "c65cdaed-654d-4219-b637-88916edf97c1",
   "metadata": {},
   "outputs": [
    {
     "data": {
      "text/latex": [
       "\\begin{verbatim}\n",
       "read(io::IO, T)\n",
       "\\end{verbatim}\n",
       "Read a single value of type \\texttt{T} from \\texttt{io}, in canonical binary representation.\n",
       "\n",
       "Note that Julia does not convert the endianness for you. Use \\href{@ref}{\\texttt{ntoh}} or \\href{@ref}{\\texttt{ltoh}} for this purpose.\n",
       "\n",
       "\\begin{verbatim}\n",
       "read(io::IO, String)\n",
       "\\end{verbatim}\n",
       "Read the entirety of \\texttt{io}, as a \\texttt{String} (see also \\href{@ref}{\\texttt{readchomp}}).\n",
       "\n",
       "\\section{Examples}\n",
       "\\begin{verbatim}\n",
       "julia> io = IOBuffer(\"JuliaLang is a GitHub organization\");\n",
       "\n",
       "julia> read(io, Char)\n",
       "'J': ASCII/Unicode U+004A (category Lu: Letter, uppercase)\n",
       "\n",
       "julia> io = IOBuffer(\"JuliaLang is a GitHub organization\");\n",
       "\n",
       "julia> read(io, String)\n",
       "\"JuliaLang is a GitHub organization\"\n",
       "\\end{verbatim}\n",
       "\\rule{\\textwidth}{1pt}\n",
       "\\begin{verbatim}\n",
       "read(filename::AbstractString)\n",
       "\\end{verbatim}\n",
       "Read the entire contents of a file as a \\texttt{Vector\\{UInt8\\}}.\n",
       "\n",
       "\\begin{verbatim}\n",
       "read(filename::AbstractString, String)\n",
       "\\end{verbatim}\n",
       "Read the entire contents of a file as a string.\n",
       "\n",
       "\\begin{verbatim}\n",
       "read(filename::AbstractString, args...)\n",
       "\\end{verbatim}\n",
       "Open a file and read its contents. \\texttt{args} is passed to \\texttt{read}: this is equivalent to \\texttt{open(io->read(io, args...), filename)}.\n",
       "\n",
       "\\rule{\\textwidth}{1pt}\n",
       "\\begin{verbatim}\n",
       "read(s::IO, nb=typemax(Int))\n",
       "\\end{verbatim}\n",
       "Read at most \\texttt{nb} bytes from \\texttt{s}, returning a \\texttt{Vector\\{UInt8\\}} of the bytes read.\n",
       "\n",
       "\\rule{\\textwidth}{1pt}\n",
       "\\begin{verbatim}\n",
       "read(s::IOStream, nb::Integer; all=true)\n",
       "\\end{verbatim}\n",
       "Read at most \\texttt{nb} bytes from \\texttt{s}, returning a \\texttt{Vector\\{UInt8\\}} of the bytes read.\n",
       "\n",
       "If \\texttt{all} is \\texttt{true} (the default), this function will block repeatedly trying to read all requested bytes, until an error or end-of-file occurs. If \\texttt{all} is \\texttt{false}, at most one \\texttt{read} call is performed, and the amount of data returned is device-dependent. Note that not all stream types support the \\texttt{all} option.\n",
       "\n",
       "\\rule{\\textwidth}{1pt}\n",
       "\\begin{verbatim}\n",
       "read(command::Cmd)\n",
       "\\end{verbatim}\n",
       "Run \\texttt{command} and return the resulting output as an array of bytes.\n",
       "\n",
       "\\rule{\\textwidth}{1pt}\n",
       "\\begin{verbatim}\n",
       "read(command::Cmd, String)\n",
       "\\end{verbatim}\n",
       "Run \\texttt{command} and return the resulting output as a \\texttt{String}.\n",
       "\n"
      ],
      "text/markdown": [
       "```\n",
       "read(io::IO, T)\n",
       "```\n",
       "\n",
       "Read a single value of type `T` from `io`, in canonical binary representation.\n",
       "\n",
       "Note that Julia does not convert the endianness for you. Use [`ntoh`](@ref) or [`ltoh`](@ref) for this purpose.\n",
       "\n",
       "```\n",
       "read(io::IO, String)\n",
       "```\n",
       "\n",
       "Read the entirety of `io`, as a `String` (see also [`readchomp`](@ref)).\n",
       "\n",
       "# Examples\n",
       "\n",
       "```jldoctest\n",
       "julia> io = IOBuffer(\"JuliaLang is a GitHub organization\");\n",
       "\n",
       "julia> read(io, Char)\n",
       "'J': ASCII/Unicode U+004A (category Lu: Letter, uppercase)\n",
       "\n",
       "julia> io = IOBuffer(\"JuliaLang is a GitHub organization\");\n",
       "\n",
       "julia> read(io, String)\n",
       "\"JuliaLang is a GitHub organization\"\n",
       "```\n",
       "\n",
       "---\n",
       "\n",
       "```\n",
       "read(filename::AbstractString)\n",
       "```\n",
       "\n",
       "Read the entire contents of a file as a `Vector{UInt8}`.\n",
       "\n",
       "```\n",
       "read(filename::AbstractString, String)\n",
       "```\n",
       "\n",
       "Read the entire contents of a file as a string.\n",
       "\n",
       "```\n",
       "read(filename::AbstractString, args...)\n",
       "```\n",
       "\n",
       "Open a file and read its contents. `args` is passed to `read`: this is equivalent to `open(io->read(io, args...), filename)`.\n",
       "\n",
       "---\n",
       "\n",
       "```\n",
       "read(s::IO, nb=typemax(Int))\n",
       "```\n",
       "\n",
       "Read at most `nb` bytes from `s`, returning a `Vector{UInt8}` of the bytes read.\n",
       "\n",
       "---\n",
       "\n",
       "```\n",
       "read(s::IOStream, nb::Integer; all=true)\n",
       "```\n",
       "\n",
       "Read at most `nb` bytes from `s`, returning a `Vector{UInt8}` of the bytes read.\n",
       "\n",
       "If `all` is `true` (the default), this function will block repeatedly trying to read all requested bytes, until an error or end-of-file occurs. If `all` is `false`, at most one `read` call is performed, and the amount of data returned is device-dependent. Note that not all stream types support the `all` option.\n",
       "\n",
       "---\n",
       "\n",
       "```\n",
       "read(command::Cmd)\n",
       "```\n",
       "\n",
       "Run `command` and return the resulting output as an array of bytes.\n",
       "\n",
       "---\n",
       "\n",
       "```\n",
       "read(command::Cmd, String)\n",
       "```\n",
       "\n",
       "Run `command` and return the resulting output as a `String`.\n"
      ],
      "text/plain": [
       "\u001b[36m  read(io::IO, T)\u001b[39m\n",
       "\n",
       "  Read a single value of type \u001b[36mT\u001b[39m from \u001b[36mio\u001b[39m, in canonical binary representation.\n",
       "\n",
       "  Note that Julia does not convert the endianness for you. Use \u001b[36mntoh\u001b[39m or \u001b[36mltoh\u001b[39m\n",
       "  for this purpose.\n",
       "\n",
       "\u001b[36m  read(io::IO, String)\u001b[39m\n",
       "\n",
       "  Read the entirety of \u001b[36mio\u001b[39m, as a \u001b[36mString\u001b[39m (see also \u001b[36mreadchomp\u001b[39m).\n",
       "\n",
       "\u001b[1m  Examples\u001b[22m\n",
       "\u001b[1m  ≡≡≡≡≡≡≡≡\u001b[22m\n",
       "\n",
       "\u001b[36m  julia> io = IOBuffer(\"JuliaLang is a GitHub organization\");\u001b[39m\n",
       "\u001b[36m  \u001b[39m\n",
       "\u001b[36m  julia> read(io, Char)\u001b[39m\n",
       "\u001b[36m  'J': ASCII/Unicode U+004A (category Lu: Letter, uppercase)\u001b[39m\n",
       "\u001b[36m  \u001b[39m\n",
       "\u001b[36m  julia> io = IOBuffer(\"JuliaLang is a GitHub organization\");\u001b[39m\n",
       "\u001b[36m  \u001b[39m\n",
       "\u001b[36m  julia> read(io, String)\u001b[39m\n",
       "\u001b[36m  \"JuliaLang is a GitHub organization\"\u001b[39m\n",
       "\n",
       "  ────────────────────────────────────────────────────────────────────────────\n",
       "\n",
       "\u001b[36m  read(filename::AbstractString)\u001b[39m\n",
       "\n",
       "  Read the entire contents of a file as a \u001b[36mVector{UInt8}\u001b[39m.\n",
       "\n",
       "\u001b[36m  read(filename::AbstractString, String)\u001b[39m\n",
       "\n",
       "  Read the entire contents of a file as a string.\n",
       "\n",
       "\u001b[36m  read(filename::AbstractString, args...)\u001b[39m\n",
       "\n",
       "  Open a file and read its contents. \u001b[36margs\u001b[39m is passed to \u001b[36mread\u001b[39m: this is\n",
       "  equivalent to \u001b[36mopen(io->read(io, args...), filename)\u001b[39m.\n",
       "\n",
       "  ────────────────────────────────────────────────────────────────────────────\n",
       "\n",
       "\u001b[36m  read(s::IO, nb=typemax(Int))\u001b[39m\n",
       "\n",
       "  Read at most \u001b[36mnb\u001b[39m bytes from \u001b[36ms\u001b[39m, returning a \u001b[36mVector{UInt8}\u001b[39m of the bytes read.\n",
       "\n",
       "  ────────────────────────────────────────────────────────────────────────────\n",
       "\n",
       "\u001b[36m  read(s::IOStream, nb::Integer; all=true)\u001b[39m\n",
       "\n",
       "  Read at most \u001b[36mnb\u001b[39m bytes from \u001b[36ms\u001b[39m, returning a \u001b[36mVector{UInt8}\u001b[39m of the bytes read.\n",
       "\n",
       "  If \u001b[36mall\u001b[39m is \u001b[36mtrue\u001b[39m (the default), this function will block repeatedly trying to\n",
       "  read all requested bytes, until an error or end-of-file occurs. If \u001b[36mall\u001b[39m is\n",
       "  \u001b[36mfalse\u001b[39m, at most one \u001b[36mread\u001b[39m call is performed, and the amount of data returned\n",
       "  is device-dependent. Note that not all stream types support the \u001b[36mall\u001b[39m option.\n",
       "\n",
       "  ────────────────────────────────────────────────────────────────────────────\n",
       "\n",
       "\u001b[36m  read(command::Cmd)\u001b[39m\n",
       "\n",
       "  Run \u001b[36mcommand\u001b[39m and return the resulting output as an array of bytes.\n",
       "\n",
       "  ────────────────────────────────────────────────────────────────────────────\n",
       "\n",
       "\u001b[36m  read(command::Cmd, String)\u001b[39m\n",
       "\n",
       "  Run \u001b[36mcommand\u001b[39m and return the resulting output as a \u001b[36mString\u001b[39m."
      ]
     },
     "execution_count": 38,
     "metadata": {},
     "output_type": "execute_result"
    }
   ],
   "source": [
    "?read()"
   ]
  },
  {
   "cell_type": "code",
   "execution_count": 39,
   "id": "b6871698-6c61-4104-8c66-53854896bd6b",
   "metadata": {},
   "outputs": [
    {
     "name": "stdout",
     "output_type": "stream",
     "text": [
      "Vector{String}\n",
      "[\"0.10654590239275163, 0.02703241875047868, 0.5193913095120746, 0.9622134171289934 \", \"0.7487054112249694, 0.2109630384848542, 0.4773649697140472, 0.7395467931709657 \", \"0.8478717892232811, 0.7601947298116722, 0.8393043946031598, 0.6031872523758938 \", \"0.2915692984591012, 0.7752944260538339, 0.47749993768387466, 0.5573673213802941 \", \"0.7285362443024656, 0.08765018493749344, 0.3551078012229385, 0.9827159087917592 \", \"0.7862252258085329, 0.9428410232780075, 0.8375773822638048, 0.3970958075981391 \", \"0.37363647768274744, 0.6199407290689397, 0.37885576004366783, 0.3675336128952903 \", \"0.7671685685412848, 0.8042273847755615, 0.8452304071221306, 0.7901849230881428 \", \"0.49554534353391266, 0.3577361491743358, 0.5491804454806225, 0.4432974349667088 \", \"0.1454883568200631, 0.42596927244660987, 0.850784242174824, 0.7744808428975184 \", \"0.39385094412658894, 0.6536718578518395, 0.17201250096852616, 0.7048000953848147 \", \"0.9232548967478116, 0.90970833699853, 0.3630820270085894, 0.4809727789319588 \", \"0.01756980129532748, 0.8079306394363553, 0.4956680253526353, 0.9599996290363353 \", \"0.07621381140422856, 0.6780310927713895, 0.6942154773528771, 0.5400012721826205 \", \"0.9068003104927785, 0.7385129593564119, 0.1472469572876608, 0.7503987387687335 \", \"0.594848372328203, 0.3290628536691842, 0.9586936121767148, 0.3516256705945412 \", \"0.7692439917794572, 0.4798891067135399, 0.5627810161780435, 0.5301931123966959 \", \"0.10744497824793342, 0.15059521903438255, 0.6487190162305189, 0.47000882959331325 \", \"0.7990413245174178, 0.9799858237573016, 0.5696678364789867, 0.011555556097343489 \", \"0.30719379185736606, 0.17839886451921116, 0.6827344752733203, 0.6418357653463515 \", \"0.24212407390514257, 0.3494083999736589, 0.8085445192203116, 0.0324528078009082 \", \"0.5487162787396119, 0.8713826652797463, 0.6244773885779362, 0.8948237386385802 \", \"0.3003448175348574, 0.6720113457697248, 0.3450946908782345, 0.5329262809697104 \", \"0.8975737463145781, 0.22987216442572833, 0.9230864850267303, 0.45404797025685995 \", \"0.24162040821717568, 0.6440070995633576, 0.7356655104029489, 0.09477236267129174 \"]\n"
     ]
    }
   ],
   "source": [
    "renglones = open(\"datos.txt\") do varArchivo\n",
    "    readlines(varArchivo)\n",
    "end\n",
    "\n",
    "println(typeof(renglones))\n",
    "println(renglones)"
   ]
  },
  {
   "cell_type": "code",
   "execution_count": 40,
   "id": "f44a30cd-cc23-4dd2-9899-e61736b86137",
   "metadata": {},
   "outputs": [
    {
     "ename": "LoadError",
     "evalue": "ParseError:\n\u001b[90m# Error @ \u001b[0;0m\u001b]8;;file:///home/omar/In[40]#7:4\u001b\\\u001b[90mIn[40]:7:4\u001b[0;0m\u001b]8;;\u001b\\\n        end\nend\u001b[48;2;120;70;70m\u001b[0;0m\n\u001b[90m#  └ ── \u001b[0;0m\u001b[91munterminated string literal\u001b[0;0m",
     "output_type": "error",
     "traceback": [
      "ParseError:\n\u001b[90m# Error @ \u001b[0;0m\u001b]8;;file:///home/omar/In[40]#7:4\u001b\\\u001b[90mIn[40]:7:4\u001b[0;0m\u001b]8;;\u001b\\\n        end\nend\u001b[48;2;120;70;70m\u001b[0;0m\n\u001b[90m#  └ ── \u001b[0;0m\u001b[91munterminated string literal\u001b[0;0m",
      "",
      "Stacktrace:",
      " [1] top-level scope",
      "   @ In[40]:7"
     ]
    }
   ],
   "source": [
    "ruta_archivo = \"datos2.txt\"\n",
    "open(ruta_archivo,\"a\") do varArchivo\n",
    "        for i=1:25\n",
    "            n1=rand()\n",
    "            write(varArc, $n1\\n\")\n"
   ]
  },
  {
   "cell_type": "code",
   "execution_count": null,
   "id": "2c05f68f-d868-4d43-a79e-964c17a69eb7",
   "metadata": {},
   "outputs": [],
   "source": [
    "promedio, suma = open(\"datos2.txt\") do varArchivo\n",
    "    var1 = 0\n",
    "    var2 = 0\n",
    "    for linea in eachline(varArchivo)\n",
    "        println(\"$(length(linea)),$(linea)\")\n",
    "        var1 = var1 + parse(Float64, linea)\n",
    "        var2 = var2 + 1\n",
    "    end\n",
    "    (var1/var2, var1)\n",
    "end"
   ]
  }
 ],
 "metadata": {
  "kernelspec": {
   "display_name": "Julia 1.10.4",
   "language": "julia",
   "name": "julia-1.10"
  },
  "language_info": {
   "file_extension": ".jl",
   "mimetype": "application/julia",
   "name": "julia",
   "version": "1.10.4"
  }
 },
 "nbformat": 4,
 "nbformat_minor": 5
}
