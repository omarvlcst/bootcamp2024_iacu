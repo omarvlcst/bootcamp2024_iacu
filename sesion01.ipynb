{
 "cells": [
  {
   "cell_type": "markdown",
   "metadata": {},
   "source": [
    "<h3> Para instalar Julia: </h3>\n",
    "\n",
    "```\n",
    "$ curl -fsSL https://install.julialang.org | sh\n",
    "```\n",
    "\n",
    "Dar Enter\n",
    "\n",
    "```\n",
    "$ source /home/omar/.bashrc\n",
    "```\n",
    "\n",
    "Una vez que instalamos Anaconda, si no queremos que el base nos consuma muchos recursos y la RAM, podemos ejecutar:\n",
    "\n",
    "```\n",
    "$ conda config --set auto_activate_base false\n",
    "```"
   ]
  },
  {
   "cell_type": "markdown",
   "metadata": {},
   "source": [
    "Para imprimir la lista de ambientes de Anaconda, hay que escribir:\n",
    "\n",
    "```\n",
    "$ conda env list\n",
    "```\n",
    "\n",
    "Para crear un nuevo ambiente de Anaconda, basado en pip, se escribe:\n",
    "\n",
    "```\n",
    "$ conda create -n JuliaEnv2 pip \n",
    "```\n",
    "\n",
    "Para activar este nuevo ambiente:\n",
    "```\n",
    "$ conda activate JuliaEnv2\n",
    "```\n",
    "\n",
    "Para desactivarlo:\n",
    "\n",
    "```\n",
    "$ conda deactivate\n",
    "```"
   ]
  },
  {
   "cell_type": "markdown",
   "metadata": {},
   "source": [
    "Para entrar al intérprete de Julia, cerremos la terminal, abramos una nueva ventana de terminal, activemos el ambiente JuliaEnv2 y luego teclear:\n",
    "\n",
    "```\n",
    "$ pip install jupyterlab\n",
    "$ pip install jupyter notebook\n",
    "```\n",
    "\n",
    "Con ello habremos instalado estos dos paquetes en nuestro ambiente.\n",
    "\n",
    "Regresemos a la terminal en el ambiente JuliaEnv2, escribimos:\n",
    "\n",
    "```\n",
    "$ julia\n",
    "```\n",
    "\n",
    "Luego, vamos a escribir ya una vez dentro del intérprete:\n",
    "\n",
    "```\n",
    "> using Pkg\n",
    "> Pkg.add()\n",
    "```\n",
    "\n",
    "Si queremos escribir letras o caracteres griegos dentro del intérprete, podemos teclear:\n",
    "\n",
    "```\n",
    "> \\pi + TAB \n",
    "> \\delta + TAB \n",
    "```\n",
    "\n",
    "Julia interpreta a \\pi como la constante pi=3.1415926535..."
   ]
  },
  {
   "cell_type": "markdown",
   "metadata": {},
   "source": [
    "Ahora, salgamos de Julia con el comando: ```exit() ```\n",
    "\n",
    "Luego, entremos a un notebook de Jupyter haciendo:\n",
    "\n",
    "```\n",
    "$ jupyter notebook\n",
    "```\n",
    "\n",
    "Esto nos abre un notebook nuevo de Jupyter y nos permite a su vez abrir uno en específico que utilice la versión de Julia que hemos instalado."
   ]
  },
  {
   "cell_type": "markdown",
   "metadata": {},
   "source": [
    "<h3> Primera regla de la programación: </h3>\n",
    "\n",
    "- 80% pensar, esbozar, escribir (lápiz y papel)\n",
    "- 20% codificar\n",
    "\n",
    "Es decir: usar pseudocódigo para representar nuestros algoritmos"
   ]
  },
  {
   "cell_type": "markdown",
   "metadata": {},
   "source": [
    "Para resolver una integral:\n",
    "\n",
    "- Aplicar un método numérico\n",
    "* trapecio, rectángulo, simpson \n",
    "\n",
    "- Integral numérica:\n",
    "\n",
    "- Datos de entrada: f(x), A, B, B>A, n=4\n",
    "\n",
    "- Proceso: \n",
    "```\n",
    "delta = (B-A)/4\n",
    "x_i = A+(delta/2)\n",
    "h1 = f(x_i)\n",
    "x_i = x_i + delta\n",
    "h2 = f(x_i)\n",
    "h3 = f(A+delta+delta+(delta/2))\n",
    "h4 = f(A+delta+delta+delta+(delta/2))\n",
    "\n",
    "integral = (h1+h2+h3+h4) * delta\n",
    "```\n",
    "\n",
    "- Mostrar resultados: println(integral)\n",
    "\n",
    "1. Datos de entrada\n",
    "2. Procesos o tareas a realizar con los datos de entrada\n",
    "3. Mostrar los resultados\n"
   ]
  },
  {
   "cell_type": "markdown",
   "metadata": {},
   "source": [
    "<h4> Libro: \"HOW TO DESIGN PROGRAMS\" </h4>\n",
    "<h4> Libro: \"JULIA: Bit by Bit\" </h4>\n",
    "<h4> Libro: \"Beginning Julia Programming\" </h4>"
   ]
  },
  {
   "cell_type": "markdown",
   "metadata": {},
   "source": [
    "<h4> Libro: \"Julia Quick Syntax Reference\" </h4>"
   ]
  },
  {
   "cell_type": "markdown",
   "metadata": {},
   "source": [
    "********************************************************\n",
    "\n",
    "Lenguajes de programación:\n",
    "\n",
    "- Interpretado\n",
    "- Compilado\n",
    "\n",
    "Julia es interpretado. Necesita tanto un intérprete como un código fuente.\n",
    "\n",
    "Y además es REPL.\n",
    "Repeat\n",
    "Execute\n",
    "\n",
    "Un prototipo en un lenguaje de programación nos ayuda a modificar de manera efectiva una parte del código."
   ]
  },
  {
   "cell_type": "markdown",
   "metadata": {},
   "source": [
    "<h4> Procedimiento para un programa que calcule la chicharronera </h4>\n",
    "\n",
    "ax² + bx + c = 0\n",
    "\n",
    "Datos de entrada: a, b, c\n",
    "\n",
    "Procedimiento:\n",
    "\n",
    "Si a = 0, entonces x = -b/c\n",
    "\n",
    "Si disc=b²-4ac > 0\n",
    "\n",
    "    x1 = (-b+sqrt(disc))/(2*a)\n",
    "\n",
    "    x2 = (-b-sqrt(disc))/(2*a)\n",
    "\n",
    "Si disc ==0:\n",
    "\n",
    "    x1 = x2 = -b/2a\n",
    "\n",
    "Si no:\n",
    "\n",
    "    x1 = (-b+sqrt(disc))/(2*a) * i\n",
    "\n",
    "    x2 = (-b-sqrt(disc))/(2*a) * i "
   ]
  },
  {
   "cell_type": "markdown",
   "metadata": {},
   "source": []
  }
 ],
 "metadata": {
  "language_info": {
   "name": "python"
  }
 },
 "nbformat": 4,
 "nbformat_minor": 2
}
